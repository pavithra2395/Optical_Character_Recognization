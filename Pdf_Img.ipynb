{
 "cells": [
  {
   "cell_type": "code",
   "execution_count": 1,
   "id": "6c98eae2",
   "metadata": {},
   "outputs": [],
   "source": [
    "import os\n",
    "from pdf2image import convert_from_path\n",
    "\n",
    "# input and output folders\n",
    "\n",
    "pdf_folder = 'Image input path'\n",
    "\n",
    "\n",
    "\n",
    "image_folder = 'image out_put path'\n",
    "\n",
    "if not os.path.exists(image_folder):\n",
    "    os.makedirs(image_folder)\n",
    "\n",
    "# loop through each PDF file in the folder\n",
    "for pdf_file in os.listdir(pdf_folder):\n",
    "    if pdf_file.endswith('.pdf'):\n",
    "        pdf_path = os.path.join(pdf_folder, pdf_file)\n",
    "        images = convert_from_path(pdf_path, 500)\n",
    "        for i, image in enumerate(images):\n",
    "            # save each image with a unique name in the output folder\n",
    "            image_name = f'{pdf_file[:-4]}_{i+1}.jpg'\n",
    "            image_path = os.path.join(image_folder, image_name)\n",
    "            image.save(image_path, 'JPEG')\n",
    "            print(f'Saved {image_name}')"
   ]
  },
  {
   "cell_type": "code",
   "execution_count": null,
   "id": "d9f0c172",
   "metadata": {},
   "outputs": [],
   "source": []
  }
 ],
 "metadata": {
  "kernelspec": {
   "display_name": "Python 3 (ipykernel)",
   "language": "python",
   "name": "python3"
  },
  "language_info": {
   "codemirror_mode": {
    "name": "ipython",
    "version": 3
   },
   "file_extension": ".py",
   "mimetype": "text/x-python",
   "name": "python",
   "nbconvert_exporter": "python",
   "pygments_lexer": "ipython3",
   "version": "3.9.12"
  }
 },
 "nbformat": 4,
 "nbformat_minor": 5
}
